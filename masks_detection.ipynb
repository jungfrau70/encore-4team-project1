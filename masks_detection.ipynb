{
  "nbformat": 4,
  "nbformat_minor": 0,
  "metadata": {
    "colab": {
      "name": "masks-detection.ipynb",
      "provenance": [],
      "collapsed_sections": [],
      "toc_visible": true,
      "authorship_tag": "ABX9TyNGZnFiqjEhsE00psy0LlH9",
      "include_colab_link": true
    },
    "kernelspec": {
      "name": "python3",
      "display_name": "Python 3"
    },
    "language_info": {
      "name": "python"
    },
    "accelerator": "GPU"
  },
  "cells": [
    {
      "cell_type": "markdown",
      "metadata": {
        "id": "view-in-github",
        "colab_type": "text"
      },
      "source": [
        "<a href=\"https://colab.research.google.com/github/jungfrau70/project1-masksdetection/blob/main/masks_detection.ipynb\" target=\"_parent\"><img src=\"https://colab.research.google.com/assets/colab-badge.svg\" alt=\"Open In Colab\"/></a>"
      ]
    },
    {
      "cell_type": "markdown",
      "metadata": {
        "id": "P3AHYID8UfQk"
      },
      "source": [
        "## Masks Detection Web Service\n",
        "\n",
        "참조\n",
        "\n",
        "https://masks-detection-13237.web.app\n",
        "\n",
        "https://github.com/ohyicong/masksdetection.git"
      ]
    },
    {
      "cell_type": "markdown",
      "metadata": {
        "id": "ILDo1RpZXnKh"
      },
      "source": [
        "# Download Code from GITHUB"
      ]
    },
    {
      "cell_type": "markdown",
      "metadata": {
        "id": "gVfYwHOsa3OL"
      },
      "source": [
        "https://github.com/jungfrau70/project1-masksdetection.git"
      ]
    },
    {
      "cell_type": "code",
      "metadata": {
        "id": "7c4grhh5UbyU",
        "colab": {
          "base_uri": "https://localhost:8080/"
        },
        "outputId": "a03d9879-fc93-4b6f-8c2b-337cf52a7ad9"
      },
      "source": [
        "!git clone https://github.com/jungfrau70/project1-masksdetection.git"
      ],
      "execution_count": 2,
      "outputs": [
        {
          "output_type": "stream",
          "text": [
            "Cloning into 'masksdetection'...\n",
            "remote: Enumerating objects: 3228, done.\u001b[K\n",
            "remote: Counting objects: 100% (725/725), done.\u001b[K\n",
            "remote: Compressing objects: 100% (687/687), done.\u001b[K\n",
            "remote: Total 3228 (delta 36), reused 715 (delta 31), pack-reused 2503\u001b[K\n",
            "Receiving objects: 100% (3228/3228), 103.31 MiB | 41.93 MiB/s, done.\n",
            "Resolving deltas: 100% (311/311), done.\n"
          ],
          "name": "stdout"
        }
      ]
    },
    {
      "cell_type": "markdown",
      "metadata": {
        "id": "fNL0NDqkZ9rZ"
      },
      "source": [
        "## STEP 1. import"
      ]
    },
    {
      "cell_type": "code",
      "metadata": {
        "id": "0K4Ul904Z8Pw"
      },
      "source": [
        "# import the necessary packages\n",
        "\n",
        "import matplotlib.pyplot as plt\n",
        "import numpy as np\n",
        "import argparse\n",
        "import os\n",
        "import tensorflow as tf\n",
        "\n",
        "from imutils import paths\n",
        "from tensorflow.keras.preprocessing.image import ImageDataGenerator\n",
        "from tensorflow.keras.applications import MobileNetV2\n",
        "from tensorflow.keras.layers import AveragePooling2D\n",
        "from tensorflow.keras.layers import Dropout\n",
        "from tensorflow.keras.layers import Flatten\n",
        "from tensorflow.keras.layers import Dense\n",
        "from tensorflow.keras.layers import Input\n",
        "from tensorflow.keras.models import Model\n",
        "from tensorflow.keras.optimizers import Adam\n",
        "from tensorflow.keras.applications.mobilenet_v2 import preprocess_input\n",
        "from tensorflow.keras.preprocessing.image import img_to_array\n",
        "from tensorflow.keras.preprocessing.image import load_img\n",
        "from tensorflow.keras.callbacks import ModelCheckpoint\n",
        "from tensorflow.keras.utils import to_categorical\n",
        "from sklearn.preprocessing import LabelBinarizer\n",
        "from sklearn.model_selection import train_test_split\n",
        "from sklearn.metrics import classification_report"
      ],
      "execution_count": 1,
      "outputs": []
    },
    {
      "cell_type": "markdown",
      "metadata": {
        "id": "b9n8CDToaE9a"
      },
      "source": [
        "## STEP 2. 전처리 (pre-processing)"
      ]
    },
    {
      "cell_type": "code",
      "metadata": {
        "colab": {
          "base_uri": "https://localhost:8080/"
        },
        "id": "Aj5PPLs7aIOk",
        "outputId": "0642e73d-f566-4b8c-9cc3-c67fea57fdbd"
      },
      "source": [
        "print(os.getcwd())\n",
        "!ls -al project1-masksdetection"
      ],
      "execution_count": 3,
      "outputs": [
        {
          "output_type": "stream",
          "text": [
            "/content\n",
            "ls: cannot access 'project1-masksdetection': No such file or directory\n"
          ],
          "name": "stdout"
        }
      ]
    },
    {
      "cell_type": "code",
      "metadata": {
        "colab": {
          "base_uri": "https://localhost:8080/"
        },
        "id": "MRyd8WhxbDME",
        "outputId": "883ef204-4532-4c7b-98ac-2ccfd768d640"
      },
      "source": [
        "import os\n",
        "os.chdir('project1-masksdetection')\n",
        "!ls -al ."
      ],
      "execution_count": null,
      "outputs": [
        {
          "output_type": "stream",
          "text": [
            "total 88\n",
            "drwxr-xr-x 12 root root 4096 May 29 19:08 .\n",
            "drwxr-xr-x  1 root root 4096 May 29 19:08 ..\n",
            "-rw-r--r--  1 root root 5788 May 29 19:08 create_augmented_dataset.py\n",
            "drwxr-xr-x  4 root root 4096 May 29 19:08 dataset\n",
            "-rw-r--r--  1 root root 4848 May 29 19:08 detect_mask_video.py\n",
            "-rw-r--r--  1 root root 1059 May 29 19:08 detect_mask_video.spec\n",
            "drwxr-xr-x  2 root root 4096 May 29 19:08 face_detector\n",
            "drwxr-xr-x  8 root root 4096 May 29 19:08 .git\n",
            "-rw-r--r--  1 root root   28 May 29 19:08 .gitignore\n",
            "drwxr-xr-x  2 root root 4096 May 29 19:08 images\n",
            "drwxr-xr-x  2 root root 4096 May 29 19:08 .ipynb_checkpoints\n",
            "drwxr-xr-x  3 root root 4096 May 29 19:09 model\n",
            "drwxr-xr-x  2 root root 4096 May 29 19:08 plot\n",
            "drwxr-xr-x  2 root root 4096 May 29 19:08 __pycache__\n",
            "-rw-r--r--  1 root root 7445 May 29 19:08 requirements.txt\n",
            "drwxr-xr-x  2 root root 4096 May 29 19:08 sounds\n",
            "-rw-r--r--  1 root root 5134 May 29 19:08 train_mask_detector.py\n",
            "drwxr-xr-x  4 root root 4096 May 29 19:08 web_demo\n"
          ],
          "name": "stdout"
        }
      ]
    },
    {
      "cell_type": "code",
      "metadata": {
        "id": "RWW90gohbAG_"
      },
      "source": [
        "!rm -rf model; mkdir model; ls -al model"
      ],
      "execution_count": null,
      "outputs": []
    },
    {
      "cell_type": "code",
      "metadata": {
        "id": "4_F6hzOOsiWd"
      },
      "source": [
        "# construct the argument parser and parse the arguments\n",
        "dataset_path=os.getcwd()+\"//dataset\"\n",
        "model_path=os.getcwd()+\"//model//mask_model\"\n",
        "plot_path=os.getcwd()+\"//plot\""
      ],
      "execution_count": null,
      "outputs": []
    },
    {
      "cell_type": "code",
      "metadata": {
        "id": "hPiCu7LTnUd8"
      },
      "source": [
        "training_datagen = ImageDataGenerator(\n",
        "    rescale=1. / 255,\n",
        "    # 위의 옵션 값들을 보고 적절히 대입하여 줍니다.\n",
        "    rotation_range=20,\n",
        "    zoom_range=0.15,  \n",
        "    width_shift_range=0.2, \n",
        "    height_shift_range=0.2, \n",
        "    shear_range=0.15, \n",
        "    horizontal_flip=True, \n",
        "    fill_mode='nearest', \n",
        "    validation_split=0.2\n",
        "    )"
      ],
      "execution_count": null,
      "outputs": []
    },
    {
      "cell_type": "code",
      "metadata": {
        "id": "w-5x2C-MoAQX"
      },
      "source": [
        "TRAINING_DIR = \"dataset/\""
      ],
      "execution_count": null,
      "outputs": []
    },
    {
      "cell_type": "code",
      "metadata": {
        "colab": {
          "base_uri": "https://localhost:8080/"
        },
        "id": "QkFhXkLxoiBl",
        "outputId": "da9a7bae-b85e-4ec3-8f32-d231b58380ef"
      },
      "source": [
        "training_generator = training_datagen.flow_from_directory(TRAINING_DIR, \n",
        "                                                            target_size=(224, 224),\n",
        "                                                            color_mode='rgb', classes=None,\n",
        "                                                            class_mode='categorical',\n",
        "                                                            batch_size=128,                                                            \n",
        "                                                            subset='training', \n",
        ")"
      ],
      "execution_count": null,
      "outputs": [
        {
          "output_type": "stream",
          "text": [
            "Found 1131 images belonging to 2 classes.\n"
          ],
          "name": "stdout"
        }
      ]
    },
    {
      "cell_type": "code",
      "metadata": {
        "colab": {
          "base_uri": "https://localhost:8080/"
        },
        "id": "UpoAB-TDrM8F",
        "outputId": "fc7f3409-53c8-465a-cde7-fb25665fbede"
      },
      "source": [
        "validation_generator = training_datagen.flow_from_directory(TRAINING_DIR, \n",
        "                                                            target_size=(224, 224),\n",
        "                                                            color_mode='rgb', classes=None,\n",
        "                                                            class_mode='categorical',\n",
        "                                                            batch_size=128,                                                            \n",
        "                                                            subset='validation', \n",
        "                                                            )"
      ],
      "execution_count": null,
      "outputs": [
        {
          "output_type": "stream",
          "text": [
            "Found 282 images belonging to 2 classes.\n"
          ],
          "name": "stdout"
        }
      ]
    },
    {
      "cell_type": "markdown",
      "metadata": {
        "id": "Olu2e3RAb-Be"
      },
      "source": [
        "## STEP 3. 모델 정의 (Sequential)\n"
      ]
    },
    {
      "cell_type": "code",
      "metadata": {
        "colab": {
          "base_uri": "https://localhost:8080/"
        },
        "id": "YtD7VdsFcayk",
        "outputId": "a943de35-5629-4aa8-999c-ba318ff8520a"
      },
      "source": [
        "# load the MobileNetV2 network, ensuring the head FC layer sets are\n",
        "# left off\n",
        "baseModel = MobileNetV2(weights=\"imagenet\", include_top=False,input_tensor=Input(shape=(224, 224, 3)))\n",
        "\n",
        "# construct the head of the model that will be placed on top of the\n",
        "# the base model\n",
        "headModel = baseModel.output\n",
        "headModel = AveragePooling2D(pool_size=(7, 7))(headModel)\n",
        "headModel = Flatten(name=\"flatten\")(headModel)\n",
        "headModel = Dense(128, activation=\"relu\")(headModel)\n",
        "headModel = Dropout(0.5)(headModel)\n",
        "headModel = Dense(2, activation=\"softmax\")(headModel)\n",
        "\n",
        "# place the head FC model on top of the base model (this will become\n",
        "# the actual model we will train)\n",
        "model = Model(inputs=baseModel.input, outputs=headModel)\n",
        "\n",
        "# loop over all layers in the base model and freeze them so they will\n",
        "# *not* be updated during the first training process\n",
        "for layer in baseModel.layers:\n",
        "\tlayer.trainable = False"
      ],
      "execution_count": null,
      "outputs": [
        {
          "output_type": "stream",
          "text": [
            "WARNING:tensorflow:`input_shape` is undefined or non-square, or `rows` is not in [96, 128, 160, 192, 224]. Weights for input shape (224, 224) will be loaded as the default.\n",
            "Downloading data from https://storage.googleapis.com/tensorflow/keras-applications/mobilenet_v2/mobilenet_v2_weights_tf_dim_ordering_tf_kernels_1.0_224_no_top.h5\n",
            "9412608/9406464 [==============================] - 0s 0us/step\n"
          ],
          "name": "stdout"
        }
      ]
    },
    {
      "cell_type": "markdown",
      "metadata": {
        "id": "tHe2YJWwcdKR"
      },
      "source": [
        "## STEP 4. optimizer, loss"
      ]
    },
    {
      "cell_type": "code",
      "metadata": {
        "id": "cvsd_Q2TsuWo"
      },
      "source": [
        "# initialize the initial learning rate, number of epochs to train for,\n",
        "# and batch size\n",
        "INIT_LR = 1e-4\n",
        "EPOCHS = 20\n",
        "BS = 32"
      ],
      "execution_count": null,
      "outputs": []
    },
    {
      "cell_type": "code",
      "metadata": {
        "colab": {
          "base_uri": "https://localhost:8080/"
        },
        "id": "HuZPGgu6dE6i",
        "outputId": "2fde5200-b964-4d08-aa16-3643cb37db35"
      },
      "source": [
        "# compile our model\n",
        "print(\"[INFO] compiling model...\")\n",
        "opt = Adam(learning_rate=INIT_LR, decay=INIT_LR / EPOCHS)\n",
        "model.compile(optimizer=opt, loss='categorical_crossentropy', metrics=['acc'])"
      ],
      "execution_count": null,
      "outputs": [
        {
          "output_type": "stream",
          "text": [
            "[INFO] compiling model...\n"
          ],
          "name": "stdout"
        }
      ]
    },
    {
      "cell_type": "markdown",
      "metadata": {
        "id": "nyurl9b8dANW"
      },
      "source": [
        "## STEP 5. ModelCheckpoint"
      ]
    },
    {
      "cell_type": "code",
      "metadata": {
        "id": "sQTpk-pYg9qr"
      },
      "source": [
        "checkpoint_path = \"my_checkpoint.ckpt\"\n",
        "checkpoint = ModelCheckpoint(filepath=checkpoint_path, \n",
        "                             save_weights_only=True, \n",
        "                             save_best_only=True, \n",
        "                             monitor='val_loss', \n",
        "                             verbose=1)"
      ],
      "execution_count": null,
      "outputs": []
    },
    {
      "cell_type": "markdown",
      "metadata": {
        "id": "26jNHE7FdL4F"
      },
      "source": [
        "## STEP 6. 학습 (fit)"
      ]
    },
    {
      "cell_type": "code",
      "metadata": {
        "colab": {
          "base_uri": "https://localhost:8080/"
        },
        "id": "oPR0ZWvPqB88",
        "outputId": "9d67c1d9-c2a0-4683-f667-8572a0ea23f6"
      },
      "source": [
        "H = model.fit(training_generator,\n",
        "          epochs=BS, \n",
        "          verbose=1, \n",
        "          callbacks=[checkpoint],\n",
        "          validation_data=(validation_generator)\n",
        "          )"
      ],
      "execution_count": null,
      "outputs": [
        {
          "output_type": "stream",
          "text": [
            "Epoch 1/32\n",
            "9/9 [==============================] - 50s 2s/step - loss: 0.7672 - acc: 0.5729 - val_loss: 0.3488 - val_acc: 0.9291\n",
            "\n",
            "Epoch 00001: val_loss improved from inf to 0.34878, saving model to my_checkpoint.ckpt\n",
            "Epoch 2/32\n",
            "9/9 [==============================] - 16s 2s/step - loss: 0.3715 - acc: 0.8382 - val_loss: 0.1796 - val_acc: 0.9681\n",
            "\n",
            "Epoch 00002: val_loss improved from 0.34878 to 0.17958, saving model to my_checkpoint.ckpt\n",
            "Epoch 3/32\n",
            "9/9 [==============================] - 16s 2s/step - loss: 0.1917 - acc: 0.9399 - val_loss: 0.1079 - val_acc: 0.9752\n",
            "\n",
            "Epoch 00003: val_loss improved from 0.17958 to 0.10795, saving model to my_checkpoint.ckpt\n",
            "Epoch 4/32\n",
            "9/9 [==============================] - 16s 2s/step - loss: 0.1178 - acc: 0.9655 - val_loss: 0.0892 - val_acc: 0.9787\n",
            "\n",
            "Epoch 00004: val_loss improved from 0.10795 to 0.08923, saving model to my_checkpoint.ckpt\n",
            "Epoch 5/32\n",
            "9/9 [==============================] - 16s 2s/step - loss: 0.0960 - acc: 0.9779 - val_loss: 0.0658 - val_acc: 0.9858\n",
            "\n",
            "Epoch 00005: val_loss improved from 0.08923 to 0.06578, saving model to my_checkpoint.ckpt\n",
            "Epoch 6/32\n",
            "9/9 [==============================] - 16s 2s/step - loss: 0.0811 - acc: 0.9770 - val_loss: 0.0518 - val_acc: 0.9858\n",
            "\n",
            "Epoch 00006: val_loss improved from 0.06578 to 0.05176, saving model to my_checkpoint.ckpt\n",
            "Epoch 7/32\n",
            "9/9 [==============================] - 16s 2s/step - loss: 0.0690 - acc: 0.9788 - val_loss: 0.0397 - val_acc: 0.9965\n",
            "\n",
            "Epoch 00007: val_loss improved from 0.05176 to 0.03969, saving model to my_checkpoint.ckpt\n",
            "Epoch 8/32\n",
            "9/9 [==============================] - 16s 2s/step - loss: 0.0517 - acc: 0.9876 - val_loss: 0.0426 - val_acc: 0.9858\n",
            "\n",
            "Epoch 00008: val_loss did not improve from 0.03969\n",
            "Epoch 9/32\n",
            "3/9 [=========>....................] - ETA: 8s - loss: 0.0460 - acc: 0.9896 "
          ],
          "name": "stdout"
        }
      ]
    },
    {
      "cell_type": "markdown",
      "metadata": {
        "id": "ddb213U0dS9m"
      },
      "source": [
        "## STEP 7. 학습 완료 후 Load Weights (ModelCheckpoint)"
      ]
    },
    {
      "cell_type": "code",
      "metadata": {
        "colab": {
          "base_uri": "https://localhost:8080/",
          "height": 233
        },
        "id": "IjTJB3wms2Ri",
        "outputId": "8ff28842-f6ec-43bd-904a-9217d04ba570"
      },
      "source": [
        "model.load_weights(checkpoint_path)"
      ],
      "execution_count": null,
      "outputs": [
        {
          "output_type": "error",
          "ename": "NameError",
          "evalue": "ignored",
          "traceback": [
            "\u001b[0;31m---------------------------------------------------------------------------\u001b[0m",
            "\u001b[0;31mNameError\u001b[0m                                 Traceback (most recent call last)",
            "\u001b[0;32m<ipython-input-1-5543ef22fa1a>\u001b[0m in \u001b[0;36m<module>\u001b[0;34m()\u001b[0m\n\u001b[0;32m----> 1\u001b[0;31m \u001b[0mmodel\u001b[0m\u001b[0;34m.\u001b[0m\u001b[0mload_weights\u001b[0m\u001b[0;34m(\u001b[0m\u001b[0mcheckpoint_path\u001b[0m\u001b[0;34m)\u001b[0m\u001b[0;34m\u001b[0m\u001b[0;34m\u001b[0m\u001b[0m\n\u001b[0m",
            "\u001b[0;31mNameError\u001b[0m: name 'model' is not defined"
          ]
        }
      ]
    },
    {
      "cell_type": "markdown",
      "metadata": {
        "id": "TfwIO1wxemX_"
      },
      "source": [
        "## STEP 8. 모델 저장"
      ]
    },
    {
      "cell_type": "code",
      "metadata": {
        "id": "A_YVmWCpeyDD"
      },
      "source": [
        "# serialize the model to disk\n",
        "print(\"[INFO] saving mask detector model... path: %s\"%(model_path+\".h5\"))\n",
        "model.save(model_path+\".h5\")"
      ],
      "execution_count": null,
      "outputs": []
    },
    {
      "cell_type": "markdown",
      "metadata": {
        "id": "zZV37dFKdbQ0"
      },
      "source": [
        "## STEP 9. 예측 (Predict)"
      ]
    },
    {
      "cell_type": "code",
      "metadata": {
        "id": "nd2sDK7Lec3x"
      },
      "source": [
        "# make predictions on the testing set\n",
        "print(\"[INFO] evaluating network...\")\n",
        "predIdxs = model.predict(testX, batch_size=BS)"
      ],
      "execution_count": null,
      "outputs": []
    },
    {
      "cell_type": "markdown",
      "metadata": {
        "id": "wC287h1heVbI"
      },
      "source": [
        "## STEP 10. 리포트"
      ]
    },
    {
      "cell_type": "code",
      "metadata": {
        "id": "pyI2nKm0YJHA"
      },
      "source": [
        "# for each image in the testing set we need to find the index of the\n",
        "# label with corresponding largest predicted probability\n",
        "predIdxs = np.argmax(predIdxs, axis=1)\n",
        "\n",
        "# show a nicely formatted classification report\n",
        "print(classification_report(testY.argmax(axis=1), predIdxs,\n",
        "\ttarget_names=lb.classes_))\n",
        "\n",
        "# plot the training loss and accuracy\n",
        "N = EPOCHS\n",
        "plt.style.use(\"ggplot\")\n",
        "plt.figure()\n",
        "plt.plot(np.arange(0, N), H.history[\"loss\"], label=\"train_loss\")\n",
        "plt.plot(np.arange(0, N), H.history[\"val_loss\"], label=\"val_loss\")\n",
        "plt.plot(np.arange(0, N), H.history[\"accuracy\"], label=\"train_acc\")\n",
        "plt.plot(np.arange(0, N), H.history[\"val_accuracy\"], label=\"val_acc\")\n",
        "plt.title(\"Training Loss and Accuracy\")\n",
        "plt.xlabel(\"Epoch #\")\n",
        "plt.ylabel(\"Loss/Accuracy\")\n",
        "plt.legend(loc=\"lower left\")\n",
        "plt.savefig(plot_path)"
      ],
      "execution_count": null,
      "outputs": []
    }
  ]
}